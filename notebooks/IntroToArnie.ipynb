{
  "nbformat": 4,
  "nbformat_minor": 0,
  "metadata": {
    "colab": {
      "provenance": [],
      "toc_visible": true
    },
    "kernelspec": {
      "name": "python3",
      "display_name": "Python 3"
    },
    "language_info": {
      "name": "python"
    }
  },
  "cells": [
    {
      "cell_type": "markdown",
      "source": [
        "# Introduction to Arnie\n",
        "\n",
        "Arnie is a Python utility library to estimate, compare, and reweight RNA energetics across many secondary structure algorithms. Arnie provides a standardized API for interacting with different secondary structure algorithms via Python wrapper functions."
      ],
      "metadata": {
        "id": "rcszddDKumkc"
      }
    },
    {
      "cell_type": "markdown",
      "source": [
        "## Installing arnie\n",
        "\n",
        "Arnie is available via [PyPI](https://pypi.org/project/arnie/), so you can install it easily via `pip install arnie`. (`!` executes a command at the shell rather than in the notebook's Python kernel)."
      ],
      "metadata": {
        "id": "UTh7vqceNShJ"
      }
    },
    {
      "cell_type": "code",
      "execution_count": 1,
      "metadata": {
        "colab": {
          "base_uri": "https://localhost:8080/"
        },
        "id": "jwWrIxp7Wezk",
        "outputId": "4fefb2fa-cf96-4039-df4d-9e745723f2dd"
      },
      "outputs": [
        {
          "output_type": "stream",
          "name": "stdout",
          "text": [
            "Collecting arnie\n",
            "  Downloading arnie-0.1.6-py3-none-any.whl.metadata (3.6 kB)\n",
            "Requirement already satisfied: numpy>=1.15 in /usr/local/lib/python3.10/dist-packages (from arnie) (1.25.2)\n",
            "Requirement already satisfied: scipy>=1.5.0 in /usr/local/lib/python3.10/dist-packages (from arnie) (1.11.4)\n",
            "Downloading arnie-0.1.6-py3-none-any.whl (39 kB)\n",
            "Installing collected packages: arnie\n",
            "Successfully installed arnie-0.1.6\n"
          ]
        }
      ],
      "source": [
        "!pip install arnie"
      ]
    },
    {
      "cell_type": "markdown",
      "source": [
        "### Arnie Setup\n",
        "\n",
        "Arnie is a wrapper library; it provides various standardized functions for interacting with RNA sequences and structures. These function work by sending commands to other RNA prediction programs.\n",
        "\n",
        "In order to use arnie, we need at least one structure predictor installed. (If we don't have any predictors installed, we will get an error: `OSError: No prediction packages found in your environment. Check your environment variables or your ARNIEFILE.`"
      ],
      "metadata": {
        "id": "oR3gIdeENZ75"
      }
    },
    {
      "cell_type": "markdown",
      "source": [
        "### Installing predictors\n",
        "\n",
        "Each prediction package has a specific installation process, usually described with the source code. The arnie docs have more details about installing specific packages. Here we will use an easy-to-install library, [Eternafold](https://github.com/eternagame/EternaFold). Eternafold is available from [Bioconda](https://bioconda.github.io/recipes/eternafold/README.html#package-package%20&#x27;eternafold&#x27;)*.\n",
        "\n",
        "**In Google Colab, using `conda` requires a work-around. The below cell checks for the presence of conda in the shell environment, and installs a Python library to access conda.*"
      ],
      "metadata": {
        "id": "fppPZJKuX-bl"
      }
    },
    {
      "cell_type": "code",
      "source": [
        "import subprocess\n",
        "\n",
        "try:\n",
        "  result = subprocess.run(['conda', '--version'], stdout=subprocess.PIPE)\n",
        "except:\n",
        "  print(\"Conda not found. Installing condacolab...\")\n",
        "  !pip install -q condacolab\n",
        "  import condacolab\n",
        "  condacolab.install()"
      ],
      "metadata": {
        "colab": {
          "base_uri": "https://localhost:8080/"
        },
        "id": "yf8241PNYfCR",
        "outputId": "8eee7ae6-a3d4-46d6-90e8-36ac8cc01cba"
      },
      "execution_count": 2,
      "outputs": [
        {
          "output_type": "stream",
          "name": "stdout",
          "text": [
            "Conda not found. Installing condacolab...\n",
            "⏬ Downloading https://github.com/conda-forge/miniforge/releases/download/23.11.0-0/Mambaforge-23.11.0-0-Linux-x86_64.sh...\n",
            "📦 Installing...\n",
            "📌 Adjusting configuration...\n",
            "🩹 Patching environment...\n",
            "⏲ Done in 0:00:13\n",
            "🔁 Restarting kernel...\n"
          ]
        }
      ]
    },
    {
      "cell_type": "code",
      "source": [
        "# Install Eternafold from bioconda\n",
        "!conda install eternafold -c bioconda"
      ],
      "metadata": {
        "colab": {
          "base_uri": "https://localhost:8080/"
        },
        "id": "IrSOZK0TX3vY",
        "outputId": "48a2f724-44c3-41db-aef2-f917849c2541"
      },
      "execution_count": 1,
      "outputs": [
        {
          "output_type": "stream",
          "name": "stdout",
          "text": [
            "Channels:\n",
            " - bioconda\n",
            " - conda-forge\n",
            "Platform: linux-64\n",
            "Collecting package metadata (repodata.json): - \b\b\\ \b\b| \b\b/ \b\b- \b\b\\ \b\b| \b\b/ \b\b- \b\b\\ \b\b| \b\b/ \b\b- \b\b\\ \b\b| \b\b/ \b\b- \b\b\\ \b\b| \b\b/ \b\b- \b\b\\ \b\b| \b\b/ \b\b- \b\b\\ \b\b| \b\b/ \b\b- \b\b\\ \b\b| \b\b/ \b\b- \b\b\\ \b\b| \b\b/ \b\b- \b\b\\ \b\b| \b\b/ \b\b- \b\b\\ \b\b| \b\b/ \b\b- \b\b\\ \b\b| \b\b/ \b\b- \b\b\\ \b\b| \b\b/ \b\b- \b\b\\ \b\b| \b\b/ \b\b- \b\b\\ \b\b| \b\b/ \b\b- \b\b\\ \b\b| \b\b/ \b\b- \b\b\\ \b\b| \b\b/ \b\b- \b\b\\ \b\b| \b\b/ \b\b- \b\b\\ \b\b| \b\b/ \b\b- \b\b\\ \b\b| \b\b/ \b\b- \b\b\\ \b\b| \b\b/ \b\b- \b\b\\ \b\b| \b\b/ \b\b- \b\b\\ \b\b| \b\b/ \b\b- \b\b\\ \b\b| \b\b/ \b\b- \b\b\\ \b\b| \b\b/ \b\b- \b\b\\ \b\b| \b\b/ \b\b- \b\b\\ \b\b| \b\b/ \b\b- \b\b\\ \b\b| \b\b/ \b\b- \b\b\\ \b\b| \b\b/ \b\b- \b\b\\ \b\b| \b\b/ \b\b- \b\b\\ \b\b| \b\b/ \b\b- \b\b\\ \b\b| \b\b/ \b\b- \b\b\\ \b\b| \b\b/ \b\b- \b\b\\ \b\b| \b\b/ \b\b- \b\b\\ \b\b| \b\b/ \b\b- \b\b\\ \b\b| \b\b/ \b\b- \b\b\\ \b\b| \b\b/ \b\b- \b\b\\ \b\b| \b\b/ \b\b- \b\b\\ \b\b| \b\b/ \b\b- \b\b\\ \b\b| \b\b/ \b\b- \b\b\\ \b\b| \b\b/ \b\b- \b\b\\ \b\b| \b\b/ \b\b- \b\b\\ \b\b| \b\b/ \b\b- \b\b\\ \b\b| \b\b/ \b\b- \b\b\\ \b\b| \b\b/ \b\b- \b\b\\ \b\b| \b\b/ \b\b- \b\b\\ \b\b| \b\b/ \b\b- \b\b\\ \b\b| \b\b/ \b\b- \b\b\\ \b\b| \b\b/ \b\b- \b\b\\ \b\b| \b\b/ \b\b- \b\b\\ \b\b| \b\b/ \b\b- \b\b\\ \b\b| \b\b/ \b\b- \b\b\\ \b\b| \b\b/ \b\b- \b\b\\ \b\b| \b\b/ \b\b- \b\b\\ \b\b| \b\b/ \b\b- \b\b\\ \b\b| \b\b/ \b\b- \b\b\\ \b\b| \b\b/ \b\b- \b\b\\ \b\b| \b\b/ \b\b- \b\b\\ \b\b| \b\b/ \b\b- \b\b\\ \b\b| \b\b/ \b\b- \b\b\\ \b\b| \b\b/ \b\b- \b\b\\ \b\b| \b\b/ \b\b- \b\b\\ \b\b| \b\b/ \b\b- \b\b\\ \b\b| \b\b/ \b\b- \b\b\\ \b\b| \b\b/ \b\b- \b\b\\ \b\b| \b\b/ \b\b- \b\b\\ \b\b| \b\bdone\n",
            "Solving environment: - \b\b\\ \b\b| \b\bdone\n",
            "\n",
            "\n",
            "==> WARNING: A newer version of conda exists. <==\n",
            "    current version: 23.11.0\n",
            "    latest version: 24.5.0\n",
            "\n",
            "Please update conda by running\n",
            "\n",
            "    $ conda update -n base -c conda-forge conda\n",
            "\n",
            "\n",
            "\n",
            "## Package Plan ##\n",
            "\n",
            "  environment location: /usr/local\n",
            "\n",
            "  added / updated specs:\n",
            "    - eternafold\n",
            "\n",
            "\n",
            "The following packages will be downloaded:\n",
            "\n",
            "    package                    |            build\n",
            "    ---------------------------|-----------------\n",
            "    ca-certificates-2024.7.4   |       hbcca054_0         151 KB  conda-forge\n",
            "    certifi-2024.7.4           |     pyhd8ed1ab_0         156 KB  conda-forge\n",
            "    eternafold-1.3.1           |       h4ac6f70_0        17.6 MB  bioconda\n",
            "    openssl-3.3.1              |       h4bc722e_2         2.8 MB  conda-forge\n",
            "    ------------------------------------------------------------\n",
            "                                           Total:        20.6 MB\n",
            "\n",
            "The following NEW packages will be INSTALLED:\n",
            "\n",
            "  eternafold         bioconda/linux-64::eternafold-1.3.1-h4ac6f70_0 \n",
            "\n",
            "The following packages will be UPDATED:\n",
            "\n",
            "  ca-certificates                     2023.11.17-hbcca054_0 --> 2024.7.4-hbcca054_0 \n",
            "  certifi                           2023.11.17-pyhd8ed1ab_0 --> 2024.7.4-pyhd8ed1ab_0 \n",
            "  openssl                                  3.2.0-hd590300_1 --> 3.3.1-h4bc722e_2 \n",
            "\n",
            "\n",
            "\n",
            "Downloading and Extracting Packages:\n",
            "eternafold-1.3.1     | 17.6 MB   | :   0% 0/1 [00:00<?, ?it/s]\n",
            "openssl-3.3.1        | 2.8 MB    | :   0% 0/1 [00:00<?, ?it/s]\u001b[A\n",
            "\n",
            "certifi-2024.7.4     | 156 KB    | :   0% 0/1 [00:00<?, ?it/s]\u001b[A\u001b[A\n",
            "\n",
            "\n",
            "ca-certificates-2024 | 151 KB    | :   0% 0/1 [00:00<?, ?it/s]\u001b[A\u001b[A\u001b[A\n",
            "openssl-3.3.1        | 2.8 MB    | :   1% 0.005658996419261726/1 [00:00<00:23, 23.88s/it]\u001b[A\n",
            "\n",
            "certifi-2024.7.4     | 156 KB    | :  10% 0.10284480377633264/1 [00:00<00:01,  1.93s/it]\u001b[A\u001b[A\n",
            "\n",
            "\n",
            "eternafold-1.3.1     | 17.6 MB   | :   0% 0.000889298944863954/1 [00:00<04:00, 240.82s/it]\n",
            "\n",
            "eternafold-1.3.1     | 17.6 MB   | :  12% 0.1236125533360896/1 [00:00<00:01,  2.03s/it]   \n",
            "\n",
            "\n",
            "ca-certificates-2024 | 151 KB    | : 100% 1.0/1 [00:00<00:00,  3.60it/s]                \u001b[A\u001b[A\u001b[A\n",
            "\n",
            "\n",
            "eternafold-1.3.1     | 17.6 MB   | :  62% 0.6207306635150398/1 [00:00<00:00,  2.12it/s]\n",
            "openssl-3.3.1        | 2.8 MB    | : 100% 1.0/1 [00:00<00:00,  2.09it/s]                 \u001b[A\n",
            "                                                                        \n",
            "                                                                        \u001b[A\n",
            "\n",
            "                                                                        \u001b[A\u001b[A\n",
            "\n",
            "\n",
            "                                                                        \u001b[A\u001b[A\u001b[A\n",
            "Preparing transaction: - \b\bdone\n",
            "Verifying transaction: | \b\b/ \b\bdone\n",
            "Executing transaction: \\ \b\b| \b\b/ \b\b- \b\b\\ \b\b| \b\bdone\n"
          ]
        }
      ]
    },
    {
      "cell_type": "markdown",
      "source": [
        "### Environment Variables\n",
        "\n",
        "Arnie needs to know where the prediction packages are installed to interact with them. We set environment variables to point to a package's install location*. To learn more about prediction package resolution, visit the docs.\n",
        "\n",
        "\n",
        "**Ordinarily, installing Eternafold from bioconda will automatically set the required environment variables, but environments work a little strangely in Google Colab. We'll need to manually set them; %env is a [\"magic command\"](https://ipython.readthedocs.io/en/stable/interactive/magics.html#magic-env) that Jupyter notebooks provide.*"
      ],
      "metadata": {
        "id": "TNeboiwSX3kr"
      }
    },
    {
      "cell_type": "code",
      "source": [
        "%env ETERNAFOLD_PATH=/usr/local/bin/eternafold-bin\n",
        "%env ETERNAFOLD_PARAMETERS=/usr/local/lib/eternafold-lib/parameters/EternaFoldParams.v1\n",
        "%env TMP=/content/tmp"
      ],
      "metadata": {
        "colab": {
          "base_uri": "https://localhost:8080/"
        },
        "id": "za5dlwfNYQPi",
        "outputId": "76fe6cb4-012f-4cdc-9a86-50c124e60adc"
      },
      "execution_count": 3,
      "outputs": [
        {
          "output_type": "stream",
          "name": "stdout",
          "text": [
            "env: ETERNAFOLD_PATH=/usr/local/bin/eternafold-bin\n",
            "env: ETERNAFOLD_PARAMETERS=/usr/local/lib/eternafold-lib/parameters/EternaFoldParams.v1\n",
            "env: TMP=/content/tmp\n"
          ]
        }
      ]
    },
    {
      "cell_type": "markdown",
      "source": [
        "## Using Arnie\n",
        "\n",
        "Arnie provides a wide range of functions and utilities for interacting with RNA sequences and structures. The docs provide more details on specific functions and their uses, options, etc.\n",
        "\n",
        "Here we will use the `mfe` function to calculate the Minimum Free Energy structure of a given RNA sequence (using Eternafold as our prediction library under the hood), and view the structure in dotbracket notation.\n",
        "\n"
      ],
      "metadata": {
        "id": "1hpJJ6hXbix8"
      }
    },
    {
      "cell_type": "code",
      "source": [
        "from arnie.mfe import mfe\n",
        "sequence = \"CGCUGUCUGUACUUGUAUCAGUACACUGACGAGUCCCUAAAGGACGAAACAGCG\"\n",
        "structure = mfe(sequence,package=\"eternafold\")\n",
        "print(structure)"
      ],
      "metadata": {
        "colab": {
          "base_uri": "https://localhost:8080/"
        },
        "id": "i9XcHPDEZQte",
        "outputId": "06976baf-5a79-415c-9b2a-319e13f47b77"
      },
      "execution_count": 4,
      "outputs": [
        {
          "output_type": "stream",
          "name": "stdout",
          "text": [
            "(((((((((((((......))))))..)....((((.....))))...))))))\n"
          ]
        }
      ]
    }
  ]
}